{
 "cells": [
  {
   "cell_type": "code",
   "execution_count": 3,
   "id": "aa5e6a05",
   "metadata": {},
   "outputs": [],
   "source": [
    "# Imports\n",
    "import pandas as pd\n",
    "import numpy as np\n",
    "import datetime\n",
    "import math"
   ]
  },
  {
   "cell_type": "markdown",
   "id": "92231580",
   "metadata": {},
   "source": [
    "##### Pull database from device to local machine"
   ]
  },
  {
   "cell_type": "code",
   "execution_count": 5,
   "id": "7d07ae6e",
   "metadata": {},
   "outputs": [
    {
     "data": {
      "text/plain": [
       "<Popen: returncode: None args: 'adb -d pull /sdcard/IITQD.db .'>"
      ]
     },
     "execution_count": 5,
     "metadata": {},
     "output_type": "execute_result"
    }
   ],
   "source": [
    "import subprocess\n",
    "import time\n",
    "\n",
    "subprocess.Popen(\"adb -d shell run-as com.example.iitqd cp databases/IITQD.db /sdcard/IITQD.db\")\n",
    "time.sleep(0.1) # wait for adb service to start\n",
    "subprocess.Popen(\"adb -d pull /sdcard/IITQD.db .\")"
   ]
  },
  {
   "cell_type": "markdown",
   "id": "ab4a41d1",
   "metadata": {},
   "source": [
    "##### Import SQLite database from device database into dataframe and prepare dataframe\n",
    "- This data is generated via human inputs into an android app, from which it is fetched when the device is connected to the PC\n",
    "- (currently running on madeup data, as fetching proper data for X days takes X days of time and is still in process)"
   ]
  },
  {
   "cell_type": "code",
   "execution_count": 227,
   "id": "c89aa0a4",
   "metadata": {},
   "outputs": [
    {
     "name": "stdout",
     "output_type": "stream",
     "text": [
      "             datetime  BLOODSUGAR  CARBUNITS  BOLUS  BASIS\n",
      "0 2021-07-21 00:34:00         123        5.0      5     55\n",
      "1 2021-07-21 09:34:00         212        5.0      5     55\n",
      "2 2021-07-21 20:34:00         555        5.0      5     55\n",
      "3 2021-07-21 23:34:00         555        5.0      5     55\n",
      "4 2021-07-22 20:34:00         555        5.0      5     55\n",
      "datetime      datetime64[ns]\n",
      "BLOODSUGAR             int64\n",
      "CARBUNITS            float64\n",
      "BOLUS                  int64\n",
      "BASIS                  int64\n",
      "dtype: object\n"
     ]
    }
   ],
   "source": [
    "import sqlite3\n",
    "\n",
    "db_location = \"IITQD.db\"\n",
    "con = sqlite3.connect(db_location)\n",
    "\n",
    "# Load the data into a DataFrame\n",
    "diary_df = pd.read_sql_query(\"SELECT * from diary_table\", con)\n",
    "\n",
    "# Close the connection\n",
    "con.close()\n",
    "\n",
    "# create datetime column and restructure df\n",
    "diary_df['datetime'] = pd.to_datetime(diary_df['DATE'] + \" \" + diary_df['TIME'])\n",
    "diary_df = diary_df[['datetime', 'BLOODSUGAR', 'CARBUNITS', 'BOLUS', 'BASIS']]\n",
    "\n",
    "# sort dataframe by datetime\n",
    "diary_df = diary_df.sort_values([\"datetime\"])\n",
    "\n",
    "# reset df indices\n",
    "diary_df = diary_df.reset_index(drop=True)\n",
    "\n",
    "print(diary_df)\n",
    "print(diary_df.dtypes)"
   ]
  },
  {
   "cell_type": "markdown",
   "id": "35e84ac7",
   "metadata": {},
   "source": [
    "##### Import exportet data from FreeStyle Libre 2 glucose measuring device into dataframe and prepare dataframe\n",
    "- This data is fetched from a FSL2 device, which continuously scans an attached FSL2 sensor (roughly every 15minutes)"
   ]
  },
  {
   "cell_type": "code",
   "execution_count": 228,
   "id": "3ece7d88",
   "metadata": {},
   "outputs": [
    {
     "name": "stdout",
     "output_type": "stream",
     "text": [
      "                 datetime  BLOODSUGAR\n",
      "0     2021-07-20 21:25:00         129\n",
      "1     2021-07-20 21:33:00         131\n",
      "2     2021-07-20 21:40:00         125\n",
      "3     2021-07-20 21:54:00         105\n",
      "4     2021-07-20 22:05:00          90\n",
      "...                   ...         ...\n",
      "10461 2021-10-18 20:22:00          96\n",
      "10462 2021-10-18 20:27:00          99\n",
      "10463 2021-10-18 20:37:00         109\n",
      "10464 2021-10-18 20:52:00         117\n",
      "10465 2021-10-18 21:15:00         109\n",
      "\n",
      "[10436 rows x 2 columns]\n",
      "datetime      datetime64[ns]\n",
      "BLOODSUGAR             int64\n",
      "dtype: object\n"
     ]
    }
   ],
   "source": [
    "FL2_export_data = \"FreeStyle Libre Export Data.txt\"\n",
    "\n",
    "# read .txt file into df\n",
    "FL2_export_df = pd.read_csv(FL2_export_data,\n",
    "                            sep='\\s+', lineterminator='\\r', skiprows=3, header=None, \n",
    "                            names=[\"id\", \"DATE\", \"TIME\", \"pointtype\", \"BLOODSUGAR\"],\n",
    "                           dtype={\"DATE\": str})\n",
    "\n",
    "# merge DATE and TIME columns to datetime column\n",
    "FL2_export_df['datetime'] = pd.to_datetime(FL2_export_df['DATE'] + \" \" + FL2_export_df['TIME'])\n",
    "\n",
    "# sort dataframe by datetime\n",
    "FL2_export_df = FL2_export_df.sort_values([\"datetime\"])\n",
    "\n",
    "# reset df indices\n",
    "FL2_export_df = FL2_export_df.reset_index(drop=True)\n",
    "\n",
    "# drop rows with irregular BLOODSUGAR values marked by pointtype 6 or 7\n",
    "FL2_export_df = FL2_export_df[(FL2_export_df.pointtype != 7) & (FL2_export_df.pointtype != 6) ]\n",
    "\n",
    "# select relevant columns\n",
    "FL2_export_df = FL2_export_df[['datetime', 'BLOODSUGAR']]\n",
    "\n",
    "# drop last/empty line\n",
    "FL2_export_df.dropna(how=\"all\", inplace=True)\n",
    "\n",
    "\n",
    "# # convert BLOODSUGAR to int64\n",
    "FL2_export_df['BLOODSUGAR'] = FL2_export_df['BLOODSUGAR'].astype('int64')\n",
    "\n",
    "print(FL2_export_df)\n",
    "print(FL2_export_df.dtypes)"
   ]
  },
  {
   "cell_type": "markdown",
   "id": "9059ab5a",
   "metadata": {},
   "source": [
    "#### Generate labels data from mobile device SQL database data\n",
    "- applicable for bloodsugar values after 3, 4 and 5hours "
   ]
  },
  {
   "cell_type": "code",
   "execution_count": 229,
   "id": "19a876c5",
   "metadata": {
    "scrolled": false
   },
   "outputs": [
    {
     "name": "stdout",
     "output_type": "stream",
     "text": [
      "   glucose_level_3h\n",
      "0             192.5\n",
      "1             143.5\n",
      "2             189.0\n",
      "3             157.0\n",
      "4             116.5\n",
      "   glucose_level_4h\n",
      "0             191.0\n",
      "1             170.0\n",
      "2             150.0\n",
      "3             179.0\n",
      "4             106.0\n",
      "   glucose_level_5h\n",
      "0             175.0\n",
      "1             176.0\n",
      "2             146.0\n",
      "3             238.0\n",
      "4             109.0\n"
     ]
    }
   ],
   "source": [
    "# generate glucose level after 3h, 4h, 5h for the diary_df\n",
    "def get_labels(df_FL2_export, df_diary, hours_passed=3):\n",
    "    lower_minutes = hours_passed*60-10\n",
    "    upper_minutes = hours_passed*60+10\n",
    "    \n",
    "    bloodsugar_x_hours = []\n",
    "\n",
    "    for i in range (df_diary.shape[0]):\n",
    "        date_time = df_diary.iat[i,0].to_pydatetime()\n",
    "\n",
    "        lower_datetime = date_time + datetime.timedelta(minutes=lower_minutes)\n",
    "        upper_datetime = date_time + datetime.timedelta(minutes=upper_minutes)\n",
    "\n",
    "        mask = (df_FL2_export['datetime'] > lower_datetime) & (df_FL2_export['datetime'] < upper_datetime)\n",
    "        df = df_FL2_export.loc[mask]\n",
    "        bloodsugar_x_hours.append(df['BLOODSUGAR'].mean())\n",
    "    column_name = \"glucose_level_\"+str(hours_passed)+\"h\"\n",
    "#     bloodsugar_x_hours = [int(math.ceil(a)) for a in bloodsugar_x_hours]\n",
    "#     bloodsugar_x_hours = [int(a) for a in bloodsugar_x_hours]\n",
    "    return pd.DataFrame({column_name:bloodsugar_x_hours})\n",
    "        \n",
    "\n",
    "print(get_labels(FL2_export_df, diary_df, 3))\n",
    "print(get_labels(FL2_export_df, diary_df, 4))\n",
    "print(get_labels(FL2_export_df, diary_df, 5))"
   ]
  },
  {
   "cell_type": "markdown",
   "id": "8dcc09ca",
   "metadata": {},
   "source": [
    "#### Prepare Data for Analysis/Visualizations and Machine Learning"
   ]
  },
  {
   "cell_type": "code",
   "execution_count": 242,
   "id": "672d6627",
   "metadata": {},
   "outputs": [
    {
     "name": "stdout",
     "output_type": "stream",
     "text": [
      "   TIME  BLOODSUGAR  CARBUNITS  BOLUS  BASIS  BLOODSUGAR_3h\n",
      "0    34         123        5.0      5     55          192.5\n",
      "1   934         212        5.0      5     55          143.5\n",
      "2  2034         555        5.0      5     55          189.0\n",
      "3  2334         555        5.0      5     55          157.0\n",
      "4  2034         555        5.0      5     55          116.5\n",
      "TIME               int64\n",
      "BLOODSUGAR         int64\n",
      "CARBUNITS        float64\n",
      "BOLUS              int64\n",
      "BASIS              int64\n",
      "BLOODSUGAR_3h    float64\n",
      "dtype: object\n"
     ]
    }
   ],
   "source": [
    "# get diary data\n",
    "data_prepared = diary_df.copy()\n",
    "\n",
    "# add generated labels\n",
    "data_prepared['BLOODSUGAR_3h'] = get_labels(FL2_export_df, diary_df, 3)\n",
    "\n",
    "# remove data and seperator ':'\n",
    "data_prepared['datetime'] = data_prepared['datetime'].dt.strftime('%H:%M')\n",
    "data_prepared['datetime'] = data_prepared['datetime'].str.replace(':', '')\n",
    "\n",
    "# remove leading 0s\n",
    "data_prepared['datetime'] = data_prepared['datetime'].str.lstrip('0')\n",
    "\n",
    "# transform string to int64\n",
    "data_prepared['datetime'] = data_prepared['datetime'].astype('int64')\n",
    "\n",
    "\n",
    "# restructure df\n",
    "data_prepared.rename(columns={'datetime': 'TIME'}, inplace=True)\n",
    "print(data_prepared)\n",
    "print(data_prepared.dtypes)"
   ]
  },
  {
   "cell_type": "code",
   "execution_count": 153,
   "id": "58d51495",
   "metadata": {},
   "outputs": [
    {
     "name": "stdout",
     "output_type": "stream",
     "text": [
      "\n",
      "Running main..\n",
      "\n",
      "Loading iit data..\n",
      "    time  glucose_level  carbs_eaten  insulin_dosis  glucose_level_3h\n",
      "0    800            110          4.5              8               170\n",
      "1    800            100          3.0              6               150\n",
      "2    800            200          4.0             10               160\n",
      "3    800            250          5.0             13               150\n",
      "4   1200            170          8.0              9                90\n",
      "5   1200            150          6.0              7                78\n",
      "6   1200            160          5.0              6                86\n",
      "7   1200            150         12.0             13                75\n",
      "8   1800            140          4.0              7                65\n",
      "9   1800            180          3.0              6                80\n",
      "10  1800            150          5.0              8               100\n",
      "11  1800            130          5.0              8                80\n",
      "time                  int64\n",
      "glucose_level         int64\n",
      "carbs_eaten         float64\n",
      "insulin_dosis         int64\n",
      "glucose_level_3h      int64\n",
      "dtype: object\n",
      "<class 'pandas.core.frame.DataFrame'>\n"
     ]
    }
   ],
   "source": [
    "### This is a leftover of 'made up realistic' data to test the following machine learning algorithm and data analysis steps\n",
    "### This is a time fragment from before  the above automatisms to fetch actual data were existing\n",
    "DATA_4DAYS = \"data_4days.csv\"\n",
    "def load_iit_data(days=4):\n",
    "    return pd.read_csv(DATA_4DAYS, sep = ';')\n",
    "\n",
    "print(\"\\nRunning main..\")\n",
    "\n",
    "# print(\"\\nFetching iit data..\")\n",
    "\n",
    "print(\"\\nLoading iit data..\")\n",
    "iit_data = load_iit_data(4)\n",
    "print(iit_data)\n",
    "print(iit_data.dtypes)\n",
    "print(type(iit_data))"
   ]
  },
  {
   "cell_type": "markdown",
   "id": "2dabc324",
   "metadata": {},
   "source": [
    "#### Vizualize/Analyze Data\n"
   ]
  },
  {
   "cell_type": "code",
   "execution_count": 250,
   "id": "2774be6f",
   "metadata": {
    "scrolled": false
   },
   "outputs": [
    {
     "name": "stdout",
     "output_type": "stream",
     "text": [
      "Visualizing iit data.. \n",
      "\n",
      "\n",
      "----- iit data head -----\n",
      "   TIME  BLOODSUGAR  CARBUNITS  BOLUS  BASIS  BLOODSUGAR_3h\n",
      "0    34         123        5.0      5     55          192.5\n",
      "1   934         212        5.0      5     55          143.5\n",
      "2  2034         555        5.0      5     55          189.0\n",
      "3  2334         555        5.0      5     55          157.0\n",
      "4  2034         555        5.0      5     55          116.5\n",
      "\n",
      "\n",
      "----- Data info -----\n",
      "<class 'pandas.core.frame.DataFrame'>\n",
      "RangeIndex: 5 entries, 0 to 4\n",
      "Data columns (total 6 columns):\n",
      " #   Column         Non-Null Count  Dtype  \n",
      "---  ------         --------------  -----  \n",
      " 0   TIME           5 non-null      int64  \n",
      " 1   BLOODSUGAR     5 non-null      int64  \n",
      " 2   CARBUNITS      5 non-null      float64\n",
      " 3   BOLUS          5 non-null      int64  \n",
      " 4   BASIS          5 non-null      int64  \n",
      " 5   BLOODSUGAR_3h  5 non-null      float64\n",
      "dtypes: float64(2), int64(4)\n",
      "memory usage: 368.0 bytes\n",
      "None\n",
      "\n",
      "\n",
      "----- Data Description -----\n",
      "              TIME  BLOODSUGAR  CARBUNITS  BOLUS  BASIS  BLOODSUGAR_3h\n",
      "count     5.000000    5.000000        5.0    5.0    5.0       5.000000\n",
      "mean   1474.000000  400.000000        5.0    5.0   55.0     159.700000\n",
      "std     965.919251  214.562345        0.0    0.0    0.0      31.899451\n",
      "min      34.000000  123.000000        5.0    5.0   55.0     116.500000\n",
      "25%     934.000000  212.000000        5.0    5.0   55.0     143.500000\n",
      "50%    2034.000000  555.000000        5.0    5.0   55.0     157.000000\n",
      "75%    2034.000000  555.000000        5.0    5.0   55.0     189.000000\n",
      "max    2334.000000  555.000000        5.0    5.0   55.0     192.500000\n",
      "\n",
      "Plotting Features as Histograms..\n"
     ]
    },
    {
     "data": {
      "image/png": "[encoded data removed]",
      "text/plain": [
       "<Figure size 1440x1080 with 6 Axes>"
      ]
     },
     "metadata": {
      "needs_background": "light"
     },
     "output_type": "display_data"
    },
    {
     "name": "stdout",
     "output_type": "stream",
     "text": [
      "\n",
      "\n",
      "Plotting Time and glucose level after 3h as Ccatter Plot..\n"
     ]
    },
    {
     "data": {
      "image/png": "[encoded data removed]",
      "text/plain": [
       "<Figure size 432x288 with 1 Axes>"
      ]
     },
     "metadata": {
      "needs_background": "light"
     },
     "output_type": "display_data"
    },
    {
     "name": "stdout",
     "output_type": "stream",
     "text": [
      "\n",
      "\n",
      "----- Correlation Matrix -----\n",
      "BLOODSUGAR_3h    1.000000\n",
      "BLOODSUGAR      -0.314599\n",
      "TIME            -0.394242\n",
      "CARBUNITS             NaN\n",
      "BOLUS                 NaN\n",
      "BASIS                 NaN\n",
      "Name: BLOODSUGAR_3h, dtype: float64\n",
      "\n",
      "\n",
      "Plotting Correlations..\n"
     ]
    },
    {
     "name": "stderr",
     "output_type": "stream",
     "text": [
      "C:\\Users\\fjun\\anaconda3\\envs\\glpred\\lib\\site-packages\\pandas\\plotting\\_matplotlib\\misc.py:100: UserWarning: Attempting to set identical left == right == 5.0 results in singular transformations; automatically expanding.\n",
      "  ax.set_xlim(boundaries_list[j])\n",
      "C:\\Users\\fjun\\anaconda3\\envs\\glpred\\lib\\site-packages\\pandas\\plotting\\_matplotlib\\misc.py:100: UserWarning: Attempting to set identical left == right == 55.0 results in singular transformations; automatically expanding.\n",
      "  ax.set_xlim(boundaries_list[j])\n",
      "C:\\Users\\fjun\\anaconda3\\envs\\glpred\\lib\\site-packages\\pandas\\plotting\\_matplotlib\\misc.py:101: UserWarning: Attempting to set identical bottom == top == 5.0 results in singular transformations; automatically expanding.\n",
      "  ax.set_ylim(boundaries_list[i])\n",
      "C:\\Users\\fjun\\anaconda3\\envs\\glpred\\lib\\site-packages\\pandas\\plotting\\_matplotlib\\misc.py:91: UserWarning: Attempting to set identical left == right == 5.0 results in singular transformations; automatically expanding.\n",
      "  ax.set_xlim(boundaries_list[i])\n",
      "C:\\Users\\fjun\\anaconda3\\envs\\glpred\\lib\\site-packages\\pandas\\plotting\\_matplotlib\\misc.py:101: UserWarning: Attempting to set identical bottom == top == 55.0 results in singular transformations; automatically expanding.\n",
      "  ax.set_ylim(boundaries_list[i])\n",
      "C:\\Users\\fjun\\anaconda3\\envs\\glpred\\lib\\site-packages\\pandas\\plotting\\_matplotlib\\misc.py:91: UserWarning: Attempting to set identical left == right == 55.0 results in singular transformations; automatically expanding.\n",
      "  ax.set_xlim(boundaries_list[i])\n"
     ]
    },
    {
     "data": {
      "image/png": "[encoded data removed]",
      "text/plain": [
       "<Figure size 864x576 with 36 Axes>"
      ]
     },
     "metadata": {
      "needs_background": "light"
     },
     "output_type": "display_data"
    },
    {
     "data": {
      "image/png": "[encoded data removed]",
      "text/plain": [
       "<Figure size 360x360 with 1 Axes>"
      ]
     },
     "metadata": {},
     "output_type": "display_data"
    }
   ],
   "source": [
    "import matplotlib.pyplot as plt\n",
    "from pandas.plotting import scatter_matrix\n",
    "def analyze_data(iit_data):\n",
    "    print(\"\\n\\n----- iit data head -----\")\n",
    "    print(iit_data.head())\n",
    "\n",
    "    print(\"\\n\\n----- Data info -----\")\n",
    "    print(iit_data.info())\n",
    "\n",
    "    print(\"\\n\\n----- Data Description -----\")\n",
    "    print(iit_data.describe())\n",
    "\n",
    "    print(\"\\nPlotting Features as Histograms..\")\n",
    "    iit_data.hist(bins=30, figsize=(20, 15))\n",
    "\n",
    "    plt.show()\n",
    "\n",
    "    print(\"\\n\\nPlotting Time and glucose level after 3h as Ccatter Plot..\")\n",
    "    iit_data.plot(kind=\"scatter\", x=\"TIME\", y=\"BLOODSUGAR_3h\")\n",
    "\n",
    "    plt.show()\n",
    "\n",
    "\n",
    "    print(\"\\n\\n----- Correlation Matrix -----\")\n",
    "    corr_matrix = iit_data.corr()\n",
    "    print(corr_matrix[\"BLOODSUGAR_3h\"].sort_values(ascending=False))\n",
    "\n",
    "    print(\"\\n\\nPlotting Correlations..\")\n",
    "    attributes = [\"TIME\", \"BLOODSUGAR\", \"CARBUNITS\", \"BOLUS\", \"BASIS\", \"BLOODSUGAR_3h\"]\n",
    "    scatter_matrix(iit_data[attributes], figsize=(12, 8))\n",
    "\n",
    "    plt.show()\n",
    "\n",
    "\n",
    "    \"\"\"\\n\\nPlotting Pie-Plot of labels.. \"\"\"\n",
    "    pie_data = iit_data.copy()\n",
    "    pie_data.set_index(pd.Index(pie_data['BLOODSUGAR_3h']), inplace=True)\n",
    "    counts = pie_data['BLOODSUGAR_3h'].value_counts()\n",
    "#     print(\"Pie Data:\", pie_data)\n",
    "    pie_data.plot.pie(y='BLOODSUGAR_3h', figsize=(5, 5))  # , layout=(n_rows,n_cols), subplots=True)\n",
    "    plt.title('label distrib iit_data')\n",
    "    plt.legend(labels=counts.values, loc=3)\n",
    "\n",
    "    plt.show()\n",
    "    \n",
    "print(\"Visualizing iit data.. \")\n",
    "analyze_data(data_prepared)"
   ]
  },
  {
   "cell_type": "markdown",
   "id": "09ec4fb0",
   "metadata": {},
   "source": [
    "#### Train a model\n",
    "- currently training Linear Regression and Decision Tree Regression estimators"
   ]
  },
  {
   "cell_type": "code",
   "execution_count": 256,
   "id": "3f420544",
   "metadata": {
    "scrolled": false
   },
   "outputs": [
    {
     "name": "stdout",
     "output_type": "stream",
     "text": [
      "\n",
      "Running main..\n",
      "\n",
      "Loading iit data..\n",
      "\n",
      "Spliting data into Train and Test Set..\n",
      "\n",
      "Saving train and test sets\n",
      "\n",
      "----- iit_data shape -----\n",
      " (5, 6)\n",
      "\n",
      "----- data_train shape -----\n",
      " (2, 6)\n",
      "\n",
      "----- data_test shape -----\n",
      " (3, 6)\n",
      "\n",
      "index:  RangeIndex(start=0, stop=5, step=1)\n",
      "\n",
      "----- iit_data -----\n",
      "    TIME  BLOODSUGAR  CARBUNITS  BOLUS  BASIS  BLOODSUGAR_3h\n",
      "0    34         123        5.0      5     55          192.5\n",
      "1   934         212        5.0      5     55          143.5\n",
      "2  2034         555        5.0      5     55          189.0\n",
      "3  2334         555        5.0      5     55          157.0\n",
      "4  2034         555        5.0      5     55          116.5\n",
      "\n",
      "----- prepared data -----\n",
      " [[ 1.  0.  0.  0.  0.  1.]\n",
      " [-1.  0.  0.  0.  0. -1.]]\n",
      "\n",
      "----- X_pr -----\n",
      "\n",
      "[[ 1.  0.  0.  0.  0.]\n",
      " [-1.  0.  0.  0.  0.]]\n",
      "\n",
      "----- y_pr -----\n",
      "\n",
      "   BLOODSUGAR_3h\n",
      "3          157.0\n",
      "4          116.5\n",
      "\n",
      "Applying Linear Regression and Testing on Test Set..\n",
      "\n",
      "Predictions:\n",
      " [[135.09934323]\n",
      " [162.33517994]\n",
      " [112.81547683]]\n",
      "\n",
      "Labels:\n",
      " [143.5, 189.0, 192.5]\n",
      "\n",
      "----- lin_mse -----\n",
      " 48.755194239829564\n",
      "\n",
      "Applying DecisionTreeRegressor and Testing on Test Set..\n",
      "\n",
      "Predictions:\n",
      " [116.5 157.  116.5]\n",
      "\n",
      "Labels:\n",
      " [143.5, 189.0, 192.5]\n",
      "\n",
      "----- tree_mse -----\n",
      " 50.09657340244606\n"
     ]
    }
   ],
   "source": [
    "import numpy as np\n",
    "\n",
    "from sklearn.model_selection import train_test_split\n",
    "\n",
    "from sklearn.pipeline import Pipeline\n",
    "from sklearn.preprocessing import StandardScaler\n",
    "\n",
    "from sklearn.linear_model import LinearRegression\n",
    "from sklearn.tree import DecisionTreeRegressor\n",
    "\n",
    "from sklearn.metrics import mean_squared_error\n",
    "\n",
    "print(\"\\nRunning main..\")\n",
    "\n",
    "# print(\"\\nFetching iit data..\")\n",
    "\n",
    "print(\"\\nLoading iit data..\")\n",
    "iit_data = data_prepared\n",
    "\n",
    "\n",
    "\n",
    "\n",
    "print(\"\\nSpliting data into Train and Test Set..\")\n",
    "data_train, data_test = train_test_split(iit_data, test_size=0.5)#, stratify=iit_data['TIME'])\n",
    "\n",
    "print(\"\\nSaving train and test sets\")\n",
    "data_train_dest = 'data_train.csv'\n",
    "data_test_dest = 'data_test.csv'\n",
    "\n",
    "data_train.to_csv(data_train_dest, index=False)\n",
    "data_test.to_csv(data_test_dest, index=False)\n",
    "\n",
    "print(\"\\n----- iit_data shape -----\\n\", iit_data.shape)\n",
    "print(\"\\n----- data_train shape -----\\n\", data_train.shape)\n",
    "print(\"\\n----- data_test shape -----\\n\", data_test.shape)\n",
    "\n",
    "print(\"\\nindex: \", iit_data.index)\n",
    "\n",
    "num_pipeline = Pipeline([\n",
    "    # ('label_transformer', LabelTransformer(batch_labels=True)),\n",
    "    ('std_scaler', StandardScaler()),\n",
    "    # ('label_transformer', LabelTransformer()),\n",
    "])\n",
    "\n",
    "print(\"\\n----- iit_data -----\\n\", iit_data)\n",
    "\n",
    "data_train_pr = num_pipeline.fit_transform(data_train)\n",
    "\n",
    "print(\"\\n----- prepared data -----\\n\", data_train_pr)\n",
    "\n",
    "print(\"\\n----- X_pr -----\\n\")\n",
    "X_train_pr = data_train_pr[:,:-1]\n",
    "print(X_train_pr)\n",
    "\n",
    "print(\"\\n----- y_pr -----\\n\")\n",
    "# y_train_pr = data_train_pr[:, -1]\n",
    "y_train_pr = data_train[['BLOODSUGAR_3h']]\n",
    "print(y_train_pr)\n",
    "\n",
    "\n",
    "print(\"\\nApplying Linear Regression and Testing on Test Set..\")\n",
    "lin_reg = LinearRegression()\n",
    "lin_reg.fit(X_train_pr, y_train_pr)\n",
    "data_test_pr = num_pipeline.fit_transform(data_test)\n",
    "gl_predictions = lin_reg.predict(data_test_pr[:,:-1])\n",
    "print(\"\\nPredictions:\\n\", gl_predictions)\n",
    "# print(\"\\nLabels:\\t\\t\", list(data_test_pr[:, -1]))\n",
    "print(\"\\nLabels:\\n\", list(data_test['BLOODSUGAR_3h']))\n",
    "\n",
    "# lin_mse = mean_squared_error(list(data_test_pr[:, -1]), gl_predictions)\n",
    "lin_mse = mean_squared_error(list(data_test['BLOODSUGAR_3h']), gl_predictions)\n",
    "lin_mse = np.sqrt(lin_mse)\n",
    "print(\"\\n----- lin_mse -----\\n\", lin_mse)\n",
    "\n",
    "\n",
    "print(\"\\nApplying DecisionTreeRegressor and Testing on Test Set..\")\n",
    "tree_reg = DecisionTreeRegressor ()\n",
    "tree_reg.fit(X_train_pr, y_train_pr)\n",
    "data_test_pr = num_pipeline.fit_transform(data_test)\n",
    "gl_predictions = tree_reg.predict(data_test_pr[:,:-1])\n",
    "print(\"\\nPredictions:\\n\", gl_predictions)\n",
    "# print(\"\\nLabels:\\t\\t\", list(data_test_pr[:, -1]))\n",
    "print(\"\\nLabels:\\n\", list(data_test['BLOODSUGAR_3h']))\n",
    "\n",
    "# tree_mse = mean_squared_error(list(data_test_pr[:, -1]), gl_predictions)\n",
    "tree_mse = mean_squared_error(list(data_test['BLOODSUGAR_3h']), gl_predictions)\n",
    "tree_mse = np.sqrt(tree_mse)\n",
    "print(\"\\n----- tree_mse -----\\n\", tree_mse)\n"
   ]
  }
 ],
 "metadata": {
  "kernelspec": {
   "display_name": "Python 3",
   "language": "python",
   "name": "python3"
  },
  "language_info": {
   "codemirror_mode": {
    "name": "ipython",
    "version": 3
   },
   "file_extension": ".py",
   "mimetype": "text/x-python",
   "name": "python",
   "nbconvert_exporter": "python",
   "pygments_lexer": "ipython3",
   "version": "3.8.8"
  }
 },
 "nbformat": 4,
 "nbformat_minor": 5
}
