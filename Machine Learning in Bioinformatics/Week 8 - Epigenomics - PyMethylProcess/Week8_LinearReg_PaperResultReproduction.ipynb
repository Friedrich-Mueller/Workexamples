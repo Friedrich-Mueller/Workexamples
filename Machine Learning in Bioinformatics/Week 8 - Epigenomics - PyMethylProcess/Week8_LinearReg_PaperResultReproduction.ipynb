{
 "cells": [
  {
   "cell_type": "code",
   "execution_count": 1,
   "metadata": {
    "ExecuteTime": {
     "end_time": "2018-09-20T01:51:03.945656Z",
     "start_time": "2018-09-20T01:51:03.237854Z"
    }
   },
   "outputs": [
    {
     "name": "stdout",
     "output_type": "stream",
     "text": [
      "Populating the interactive namespace from numpy and matplotlib\n"
     ]
    }
   ],
   "source": [
    "%pylab inline\n",
    "%load_ext autoreload\n",
    "%autoreload 2\n",
    "\n",
    "%aimport deepsvr"
   ]
  },
  {
   "cell_type": "code",
   "execution_count": 2,
   "metadata": {
    "ExecuteTime": {
     "end_time": "2018-09-20T01:51:03.973163Z",
     "start_time": "2018-09-20T01:51:03.948928Z"
    }
   },
   "outputs": [],
   "source": [
    "%matplotlib inline"
   ]
  },
  {
   "cell_type": "code",
   "execution_count": 3,
   "metadata": {
    "ExecuteTime": {
     "end_time": "2018-09-20T01:51:04.956254Z",
     "start_time": "2018-09-20T01:51:04.105890Z"
    }
   },
   "outputs": [],
   "source": [
    "import numpy as np\n",
    "import pandas as pd\n",
    "import os\n",
    "from sklearn.model_selection import KFold\n",
    "from sklearn.model_selection import cross_val_predict\n",
    "from sklearn import preprocessing\n",
    "from sklearn import metrics\n",
    "from sklearn.model_selection import train_test_split\n",
    "from sklearn.ensemble import RandomForestClassifier\n",
    "from sklearn.linear_model import LinearRegression\n",
    "from sklearn.metrics import r2_score\n",
    "from sklearn.metrics import roc_auc_score\n",
    "\n",
    "import matplotlib.pyplot as plt\n",
    "import seaborn as sns\n",
    "from itertools import cycle\n",
    "\n",
    "from analysis_utils.ClassifierPlots import create_reliability_diagram, create_roc_curve, create_feature_importance_plot\n",
    "from analysis_utils.Analysis import print_accuracy_and_classification_report, predict_classes, get_somatic_error_type\n",
    "\n",
    "sns.set_style(\"white\")\n",
    "sns.set_context('poster')"
   ]
  },
  {
   "cell_type": "code",
   "execution_count": 4,
   "metadata": {
    "ExecuteTime": {
     "end_time": "2018-09-20T01:51:05.068956Z",
     "start_time": "2018-09-20T01:51:04.959177Z"
    }
   },
   "outputs": [
    {
     "name": "stdout",
     "output_type": "stream",
     "text": [
      "\n",
      "#### Training data:\n",
      "<class 'dict'>\n",
      "<class 'pandas.core.frame.DataFrame'> <class 'pandas.core.frame.DataFrame'>\n",
      "Index(['cg14112997', 'cg02368820', 'cg16464924', 'cg11738485', 'cg19697575',\n",
      "       'cg24007926', 'cg11956442', 'cg10890644', 'cg00540295', 'cg14061270',\n",
      "       ...\n",
      "       'cg24575128', 'cg02575448', 'cg14315334', 'cg10715905', 'cg12298697',\n",
      "       'cg06890747', 'cg11282353', 'cg25381017', 'cg07224147', 'cg01498829'],\n",
      "      dtype='object', length=25000)\n",
      "(176, 25000)\n",
      "Index(['X', 'Basename', 'AccNum', 'disease', 'Age', 'Sex', 'Tissue', 'Gran',\n",
      "       'CD4T', 'CD8T', 'Bcell', 'Mono', 'NK', 'gMDSC', 'filenames'],\n",
      "      dtype='object')\n",
      "(176, 15)\n",
      "\n",
      "#### Validation data:\n",
      "<class 'dict'>\n",
      "<class 'pandas.core.frame.DataFrame'> <class 'pandas.core.frame.DataFrame'>\n",
      "Index(['cg14112997', 'cg02368820', 'cg16464924', 'cg11738485', 'cg19697575',\n",
      "       'cg24007926', 'cg11956442', 'cg10890644', 'cg00540295', 'cg14061270',\n",
      "       ...\n",
      "       'cg24575128', 'cg02575448', 'cg14315334', 'cg10715905', 'cg12298697',\n",
      "       'cg06890747', 'cg11282353', 'cg25381017', 'cg07224147', 'cg01498829'],\n",
      "      dtype='object', length=25000)\n",
      "(50, 25000)\n",
      "Index(['X', 'Basename', 'AccNum', 'disease', 'Age', 'Sex', 'Tissue', 'Gran',\n",
      "       'CD4T', 'CD8T', 'Bcell', 'Mono', 'NK', 'gMDSC', 'filenames'],\n",
      "      dtype='object')\n",
      "(50, 15)\n",
      "\n",
      "#### Testing data:\n",
      "<class 'dict'>\n",
      "<class 'pandas.core.frame.DataFrame'> <class 'pandas.core.frame.DataFrame'>\n",
      "Index(['cg14112997', 'cg02368820', 'cg16464924', 'cg11738485', 'cg19697575',\n",
      "       'cg24007926', 'cg11956442', 'cg10890644', 'cg00540295', 'cg14061270',\n",
      "       ...\n",
      "       'cg24575128', 'cg02575448', 'cg14315334', 'cg10715905', 'cg12298697',\n",
      "       'cg06890747', 'cg11282353', 'cg25381017', 'cg07224147', 'cg01498829'],\n",
      "      dtype='object', length=25000)\n",
      "(25, 25000)\n",
      "Index(['X', 'Basename', 'AccNum', 'disease', 'Age', 'Sex', 'Tissue', 'Gran',\n",
      "       'CD4T', 'CD8T', 'Bcell', 'Mono', 'NK', 'gMDSC', 'filenames'],\n",
      "      dtype='object')\n",
      "(25, 15)\n"
     ]
    }
   ],
   "source": [
    "# Pull in training data\n",
    "training_data = pd.read_pickle('train_val_test_sets/train_methyl_array.pkl')\n",
    "validation_data = pd.read_pickle('train_val_test_sets/val_methyl_array.pkl')\n",
    "testing_data = pd.read_pickle('train_val_test_sets/test_methyl_array.pkl')\n",
    "\n",
    "print(\"\\n#### Training data:\")\n",
    "print(type(training_data))\n",
    "print(type(training_data['pheno']), type(training_data['beta']))\n",
    "print(training_data['beta'].columns)\n",
    "print(training_data['beta'].shape)\n",
    "print(training_data['pheno'].columns)\n",
    "print(training_data['pheno'].shape)\n",
    "\n",
    "\n",
    "print(\"\\n#### Validation data:\")\n",
    "print(type(validation_data))\n",
    "print(type(validation_data['pheno']), type(validation_data['beta']))\n",
    "print(validation_data['beta'].columns)\n",
    "print(validation_data['beta'].shape)\n",
    "print(validation_data['pheno'].columns)\n",
    "print(validation_data['pheno'].shape)\n",
    "\n",
    "print(\"\\n#### Testing data:\")\n",
    "print(type(testing_data))\n",
    "print(type(testing_data['pheno']), type(testing_data['beta']))\n",
    "print(testing_data['beta'].columns)\n",
    "print(testing_data['beta'].shape)\n",
    "print(testing_data['pheno'].columns)\n",
    "print(testing_data['pheno'].shape)\n",
    "\n",
    "\n",
    "# print(training_data)\n",
    "# training_data.sort_index(axis=1, inplace=True)"
   ]
  },
  {
   "cell_type": "code",
   "execution_count": null,
   "metadata": {
    "scrolled": false
   },
   "outputs": [],
   "source": []
  },
  {
   "cell_type": "code",
   "execution_count": 5,
   "metadata": {
    "ExecuteTime": {
     "end_time": "2018-09-20T01:51:07.142035Z",
     "start_time": "2018-09-20T01:51:07.104503Z"
    },
    "scrolled": true
   },
   "outputs": [],
   "source": [
    "# Show the calls associate with training data\n",
    "# print(training_data['pheno'].groupby('Age').size())\n",
    "# print(training_data['pheno'].groupby('NK').size())\n",
    "# print(training_data['pheno'].groupby('CD8T').size())\n",
    "# print(training_data['pheno'].groupby('gMDSC').size())"
   ]
  },
  {
   "cell_type": "code",
   "execution_count": 6,
   "metadata": {
    "ExecuteTime": {
     "end_time": "2018-09-20T01:51:09.009953Z",
     "start_time": "2018-09-20T01:51:08.981048Z"
    }
   },
   "outputs": [],
   "source": [
    "# fix random seed for reproducibility\n",
    "seed = 7\n",
    "np.random.seed(seed)"
   ]
  },
  {
   "cell_type": "markdown",
   "metadata": {},
   "source": [
    "# Age Regressor"
   ]
  },
  {
   "cell_type": "code",
   "execution_count": 7,
   "metadata": {
    "ExecuteTime": {
     "end_time": "2018-09-20T01:51:11.980783Z",
     "start_time": "2018-09-20T01:51:11.896553Z"
    }
   },
   "outputs": [
    {
     "name": "stdout",
     "output_type": "stream",
     "text": [
      "[[0.74677163 0.13775374 0.88551003 ... 0.48341863 0.66089444 0.51689468]\n",
      " [0.04887406 0.90537354 0.97906541 ... 0.49703332 0.66324587 0.58863093]\n",
      " [0.72727367 0.14917133 0.89311984 ... 0.50181661 0.66569283 0.56854207]\n",
      " ...\n",
      " [0.04744683 0.956407   0.92370621 ... 0.53528889 0.62721045 0.59115508]\n",
      " [0.21039367 0.90989842 0.36555745 ... 0.54765308 0.84242357 0.50499059]\n",
      " [0.81269162 0.14452031 0.20225115 ... 0.45019963 0.74177941 0.5883739 ]]\n",
      "[26. 16. 47. 33. 91. 15. 16. 17. 15. 16. 59. 49. 40. 54. 31. 41. 39. 25.\n",
      " 62. 69. 46. 31. 79. 49. 55. 82. 20. 39. 51. 61. 60. 58. 70. 16. 59. 30.\n",
      " 62. 50. 56. 79. 21. 40. 70. 72. 69. 76. 19. 53. 82. 53. 32. 59. 55. 16.\n",
      " 74. 52. 55. 72. 71. 44. 40. 65. 36. 43. 67. 52. 53. 45. 47. 16. 53. 44.\n",
      " 58. 44. 19. 64. 37. 53. 34. 77. 59. 49. 75. 35. 44. 16. 44. 51. 69. 19.\n",
      " 68. 45. 19. 83. 45. 24. 71. 16. 82. 80. 42. 69. 45. 35. 62. 78. 83. 19.\n",
      " 19. 15. 31. 76. 27. 22. 70. 15. 36. 69. 24. 15. 77. 84. 44. 17. 44. 86.\n",
      " 76. 35. 40. 72. 45. 49. 47. 41. 23. 80. 15. 29. 50. 65. 56. 80. 53. 20.\n",
      " 22. 69. 48. 26. 69. 44. 74. 50. 33. 56. 15. 32. 56. 65. 45. 61. 65. 63.\n",
      " 38. 75. 32. 75. 79. 46. 17. 61. 83. 70. 77. 56. 19. 75.]\n",
      "[[0.05084803 0.88966983 0.93334628 ... 0.53834312 0.61605077 0.56329369]\n",
      " [0.04997662 0.30728219 0.87817552 ... 0.52532229 0.61276618 0.57967129]\n",
      " [0.76891731 0.92140865 0.87840143 ... 0.44827731 0.63119828 0.60119314]\n",
      " ...\n",
      " [0.04136782 0.94973718 0.88104118 ... 0.48407992 0.59769333 0.64477576]\n",
      " [0.0512416  0.11272721 0.13232093 ... 0.46933832 0.6126678  0.4634489 ]\n",
      " [0.05991867 0.8752125  0.21196602 ... 0.46729271 0.61410278 0.54116475]]\n",
      "[16. 18. 36. 56. 48. 57. 33. 49. 50. 18. 18. 63. 48. 59. 48. 41. 22. 55.\n",
      " 24. 21. 39. 64. 19. 47. 67. 58. 58. 29. 68. 72. 20. 23. 14. 40. 66. 85.\n",
      " 62. 29. 21. 18. 44. 39. 55. 57. 61. 66. 60. 46. 70. 40.]\n",
      "[[0.70360755 0.19605445 0.90137692 ... 0.48558266 0.62165117 0.62861874]\n",
      " [0.05435904 0.12195961 0.14102762 ... 0.59019816 0.69807928 0.4892887 ]\n",
      " [0.73487413 0.90519281 0.60559132 ... 0.60015537 0.65115619 0.52604287]\n",
      " ...\n",
      " [0.06271682 0.15017772 0.98169038 ... 0.55804801 0.64715028 0.55871354]\n",
      " [0.07070617 0.94576531 0.95735169 ... 0.37934262 0.79592213 0.48625274]\n",
      " [0.77948417 0.12177972 0.82667239 ... 0.62689533 0.74085176 0.53756399]]\n",
      "[19. 19. 41. 71. 21. 25. 72. 42. 30. 35. 22. 49. 37. 45. 71. 18. 68. 79.\n",
      " 16. 16. 51. 53. 55. 80. 80.]\n"
     ]
    }
   ],
   "source": [
    "# Get training data as numpy array\n",
    "X_train = training_data['beta']\n",
    "X_train = X_train.reset_index().drop(columns=['index']) # remove the sample-name indices\n",
    "X_train = X_train.values\n",
    "print(X_train)\n",
    "\n",
    "# Get labels for training data\n",
    "Y_train = training_data['pheno'].Age\n",
    "Y_train = Y_train.reset_index().drop(columns=['index']) # remove the sample-name indices\n",
    "Y_train = Y_train.values.reshape(1, -1)[0]\n",
    "print(Y_train)\n",
    "\n",
    "# Get test data as numpy array\n",
    "X_test = validation_data['beta']\n",
    "X_test = X_test.reset_index().drop(columns=['index']) # remove the sample-name indices\n",
    "X_test = X_test.values\n",
    "print(X_test)\n",
    "\n",
    "# Get labels for test data\n",
    "Y_test = validation_data['pheno'].Age\n",
    "Y_test = Y_test.reset_index().drop(columns=['index']) # remove the sample-name indices\n",
    "Y_test = Y_test.values.reshape(1, -1)[0]\n",
    "print(Y_test)\n",
    "\n",
    "# Get validation data as numpy array\n",
    "X_val = testing_data['beta']\n",
    "X_val = X_val.reset_index().drop(columns=['index']) # remove the sample-name indices\n",
    "X_val = X_val.values\n",
    "print(X_val)\n",
    "\n",
    "# Get labels for validation data\n",
    "Y_val = testing_data['pheno'].Age\n",
    "Y_val = Y_val.reset_index().drop(columns=['index']) # remove the sample-name indices\n",
    "Y_val = Y_val.values.reshape(1, -1)[0]\n",
    "print(Y_val)\n",
    "\n"
   ]
  },
  {
   "cell_type": "code",
   "execution_count": 8,
   "metadata": {
    "ExecuteTime": {
     "end_time": "2018-09-20T01:51:13.362371Z",
     "start_time": "2018-09-20T01:51:13.301071Z"
    }
   },
   "outputs": [],
   "source": [
    "# Split the data for cross-validation\n",
    "# X_train, X_test, Y_train, Y_test = train_test_split(\n",
    "#     X, Y, test_size=0.33, random_state=seed)"
   ]
  },
  {
   "cell_type": "code",
   "execution_count": 9,
   "metadata": {
    "ExecuteTime": {
     "end_time": "2018-09-20T01:51:13.747094Z",
     "start_time": "2018-09-20T01:51:13.717998Z"
    }
   },
   "outputs": [
    {
     "data": {
      "text/plain": [
       "(176, 25000)"
      ]
     },
     "execution_count": 9,
     "metadata": {},
     "output_type": "execute_result"
    }
   ],
   "source": [
    "# Determine shape of training data features for cross-validation\n",
    "X_train.shape"
   ]
  },
  {
   "cell_type": "code",
   "execution_count": 10,
   "metadata": {
    "ExecuteTime": {
     "end_time": "2018-09-20T01:51:14.140564Z",
     "start_time": "2018-09-20T01:51:14.111455Z"
    }
   },
   "outputs": [
    {
     "data": {
      "text/plain": [
       "(176,)"
      ]
     },
     "execution_count": 10,
     "metadata": {},
     "output_type": "execute_result"
    }
   ],
   "source": [
    "# Determine shape of training data calls for cross-validation\n",
    "Y_train.shape"
   ]
  },
  {
   "cell_type": "code",
   "execution_count": 11,
   "metadata": {},
   "outputs": [],
   "source": [
    "# Set parameters for the Random Forest Model\n",
    "kfold = KFold(n_splits=3, shuffle=True, random_state=seed)\n",
    "# enc = preprocessing.MultiLabelBinarizer()\n",
    "# Y_one_hot = enc.fit_transform(Y_train)"
   ]
  },
  {
   "cell_type": "code",
   "execution_count": 12,
   "metadata": {
    "ExecuteTime": {
     "end_time": "2018-09-20T01:51:31.629854Z",
     "start_time": "2018-09-20T01:51:31.604286Z"
    }
   },
   "outputs": [],
   "source": [
    "# Set parameters for the estimator\n",
    "estimator = LinearRegression(n_jobs=-1)"
   ]
  },
  {
   "cell_type": "code",
   "execution_count": 13,
   "metadata": {
    "ExecuteTime": {
     "end_time": "2018-09-20T01:56:41.307124Z",
     "start_time": "2018-09-20T01:51:45.138476Z"
    },
    "scrolled": true
   },
   "outputs": [
    {
     "data": {
      "text/plain": [
       "{'train': 0.8452383492534246,\n",
       " 'val': 0.5076885500101797,\n",
       " 'test': 0.6756645007329956}"
      ]
     },
     "execution_count": 13,
     "metadata": {},
     "output_type": "execute_result"
    }
   ],
   "source": [
    "# Perform cross validation\n",
    "probabilities_train = cross_val_predict(estimator, X_train, Y_train, cv=kfold, method='predict')\n",
    "\n",
    "probabilities_val = cross_val_predict(estimator, X_val, Y_val, cv=kfold, method='predict')\n",
    "\n",
    "probabilities_test = cross_val_predict(estimator, X_test, Y_test, cv=kfold, method='predict')\n",
    "\n",
    "scores= {}\n",
    "scores['train']=r2_score(Y_train, probabilities_train)\n",
    "scores['val']=r2_score(Y_val, probabilities_val)\n",
    "scores['test']=r2_score(Y_test, probabilities_test)\n",
    "\n",
    "scores"
   ]
  },
  {
   "cell_type": "code",
   "execution_count": 14,
   "metadata": {},
   "outputs": [
    {
     "data": {
      "text/plain": [
       "{'train': 25.53119474502796,\n",
       " 'val': 28.060472700195675,\n",
       " 'test': 21.85746929893586}"
      ]
     },
     "execution_count": 14,
     "metadata": {},
     "output_type": "execute_result"
    }
   ],
   "source": [
    "from sklearn.metrics import max_error\n",
    "max_errors = {}\n",
    "max_errors['train'] = max_error(Y_train, probabilities_train)\n",
    "max_errors['val'] = max_error(Y_val, probabilities_val)\n",
    "max_errors['test'] = max_error(Y_test, probabilities_test)\n",
    "\n",
    "max_errors"
   ]
  }
 ],
 "metadata": {
  "kernelspec": {
   "display_name": "Python 3",
   "language": "python",
   "name": "python3"
  },
  "language_info": {
   "codemirror_mode": {
    "name": "ipython",
    "version": 3
   },
   "file_extension": ".py",
   "mimetype": "text/x-python",
   "name": "python",
   "nbconvert_exporter": "python",
   "pygments_lexer": "ipython3",
   "version": "3.8.8"
  }
 },
 "nbformat": 4,
 "nbformat_minor": 2
}
