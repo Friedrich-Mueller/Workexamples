{
 "cells": [
  {
   "cell_type": "markdown",
   "metadata": {
    "colab_type": "text",
    "id": "dF1m8o72jSKt"
   },
   "source": [
    "## Imports"
   ]
  },
  {
   "cell_type": "code",
   "execution_count": 1,
   "metadata": {
    "colab": {
     "base_uri": "https://localhost:8080/",
     "height": 71
    },
    "colab_type": "code",
    "id": "gfubFQU_Mee-",
    "outputId": "22bff46e-b0d7-4361-aa00-771b9da41922"
   },
   "outputs": [],
   "source": [
    "import numpy as np\n",
    "import pandas as pd\n",
    "import os\n",
    "import random as rd\n",
    "from sklearn.model_selection import KFold\n",
    "from sklearn.model_selection import cross_val_predict\n",
    "from sklearn import preprocessing\n",
    "from sklearn import metrics\n",
    "from sklearn.model_selection import train_test_split\n",
    "from sklearn.ensemble import RandomForestClassifier\n",
    "import matplotlib.pyplot as plt\n",
    "import seaborn as sns\n",
    "from itertools import cycle\n",
    "\n",
    "#from analysis_utils.ClassifierPlots import create_reliability_diagram, create_roc_curve, create_feature_importance_plot\n",
    "#from analysis_utils.Analysis import print_accuracy_and_classification_report, predict_classes, get_somatic_error_type"
   ]
  },
  {
   "cell_type": "code",
   "execution_count": 2,
   "metadata": {
    "colab": {},
    "colab_type": "code",
    "id": "24esazYfJlkf"
   },
   "outputs": [],
   "source": [
    "from scipy.stats import pearsonr\n",
    "import matplotlib.ticker as ticker\n",
    "from itertools import cycle\n",
    "\n",
    "sns.set_style('white')\n",
    "\n",
    "\n",
    "def _calculate_hist(probabilities,\n",
    "                    bins=[0, .1, .2, .3, .4, .5, .6, .7, .8, .9, 1]):\n",
    "    '''Calculates the counts and mean of each bin for a histogram using \\\n",
    "    defined bin intervals.\n",
    "\n",
    "    Parameters:\n",
    "        probabilities (numpy.array): Array of probabilites\n",
    "        bins (list): Defined bins to calculate. Default [0,.1,.2,.3,.4,\n",
    "                     .5,.6,.7,.8,.9,1]\n",
    "    Returns:\n",
    "        (counts, means): Lists of the counts and means of each bin\n",
    "    '''\n",
    "    counts = list()\n",
    "    means = list()\n",
    "    for i in range(0, len(bins) - 1):\n",
    "        count = len(probabilities[(probabilities > bins[i])\n",
    "                                  & (probabilities <= bins[i + 1])])\n",
    "        if count == 0:\n",
    "            counts.append(0)\n",
    "            bin_mean = np.mean([bins[i], bins[i+1]])\n",
    "            means.append(bin_mean)\n",
    "        else:\n",
    "            counts.append(count)\n",
    "            means.append(np.mean(probabilities[(probabilities > bins[i]) &\n",
    "                                               (probabilities <= bins[i + 1])])\n",
    "                         )\n",
    "    return np.array(counts), np.array(means)\n",
    "\n",
    "def create_roc_curve(Y, probabilities, class_lookup, title, ax):\n",
    "    '''Create ROC curve to compare multiclass model performance.\n",
    "\n",
    "    Parameters:\n",
    "        Y (numpy.array): Truth labels\n",
    "        probabilities (numpy.array): Output of model for each class\n",
    "        class_lookup (dict): lookup hash of truth labels\n",
    "        title (str): Plot title\n",
    "    '''\n",
    "    n_classes = Y.shape[1]\n",
    "    fpr = dict()\n",
    "    tpr = dict()\n",
    "    roc_auc = dict()\n",
    "    ax.set_title(title)\n",
    "    if n_classes == 3:\n",
    "        colors = cycle(['orange', 'red', 'black'])\n",
    "    else:\n",
    "        colors = cycle(['orange', 'red', 'aqua', 'black'])\n",
    "    for i, color in zip(range(n_classes), colors):\n",
    "        fpr[i], tpr[i], _ = metrics.roc_curve(Y[:, i], probabilities[:, i])\n",
    "        roc_auc[i] = metrics.auc(fpr[i], tpr[i])\n",
    "        ax.plot(fpr[i], tpr[i], color=color,\n",
    "                label='ROC curve of class {0} (area = {1:0.2f})'.format(\n",
    "                    class_lookup[i], roc_auc[i]))\n",
    "    ax.plot([0, 1], [0, 1], 'k--')\n",
    "    ax.set_xlim([0, 1.0])\n",
    "    ax.set_ylim([0.0, 1.0])\n",
    "    ax.set_xlabel('False Positive Rate')\n",
    "    ax.set_ylabel('True Positive Rate')\n",
    "    ax.legend(loc=\"lower right\")\n",
    "    # plt.show()\n",
    "\n",
    "\n",
    "def create_feature_importance_plot(feature_importance_metrics, title):\n",
    "    '''Create bar plot illustrating importance of each feature.\n",
    "\n",
    "    Parameters:\n",
    "        feature_importance_metrics (pandas.DataFrame): DataFrame with features\n",
    "                                                       on index and a column\n",
    "                                                       named delta_auc\n",
    "                                                       containing the change\n",
    "                                                       in roc auc values\n",
    "        title (str): Title of plot\n",
    "    '''\n",
    "    feature_importance_metrics.replace(\n",
    "        {'feature': {'var': 'variant', 'ref': 'reference',\n",
    "                     'avg': 'average',\n",
    "                     '_se_': '_single_end_',\n",
    "                     '3p': '3_prime', '_': ' '}},\n",
    "        regex=True, inplace=True)\n",
    "    sns.barplot(y='feature', x='delta_auc',\n",
    "                data=feature_importance_metrics.head(30),\n",
    "                color='cornflowerblue')\n",
    "    plt.xlabel('Delta average AUC')\n",
    "    plt.ylabel('Feature')\n",
    "    plt.title(title)\n",
    "\n",
    "\n",
    "def make_model_output_plot(probabilities, title):\n",
    "    \"\"\"Make plot that show the distribution of model output\n",
    "\n",
    "        Parameters:\n",
    "            probabilities (numpy.array): array of model output with samples\n",
    "                                         on row and classes in columns\n",
    "            title (str): Plot title\n",
    "    \"\"\"\n",
    "    ax = sns.distplot(probabilities[:, 0:1])\n",
    "    sns.distplot(probabilities[:, 1:2], ax=ax)\n",
    "    sns.distplot(probabilities[:, 2:3], ax=ax)\n",
    "    ax.legend(['Ambiguous', 'Fail', 'Somatic'])\n",
    "    ax.set_xlabel('Model output')\n",
    "    ax.set_ylabel('Density')\n",
    "    ax.set_title(title)\n"
   ]
  },
  {
   "cell_type": "code",
   "execution_count": 3,
   "metadata": {
    "colab": {},
    "colab_type": "code",
    "id": "dIcnb1H9Jr9N"
   },
   "outputs": [],
   "source": [
    "import numpy as np\n",
    "import pandas as pd\n",
    "from sklearn import metrics\n",
    "from sklearn import preprocessing\n",
    "\n",
    "def get_roc_auc(probabilities, Y):\n",
    "    # for binary classifier add labels for fail category\n",
    "    if len(Y.shape) == 1:\n",
    "        Y = np.array([np.logical_not(Y), Y]).T\n",
    "    n_classes = Y.shape[1]\n",
    "    fpr = [0] * n_classes\n",
    "    tpr = [0] * n_classes\n",
    "    roc_auc = [0] * n_classes\n",
    "    for i in range(n_classes):\n",
    "        fpr[i], tpr[i], _ = metrics.roc_curve(Y[:, i], probabilities[:, i])\n",
    "        roc_auc[i] = metrics.auc(fpr[i], tpr[i])\n",
    "    return np.mean(roc_auc)\n",
    "\n",
    "\n",
    "def print_accuracy_and_classification_report(labels, prediction):\n",
    "    \"\"\"Print model accuracy and classification report.\n",
    "\n",
    "    Args:\n",
    "        labels (numpy.array): Truth lables\n",
    "        prediction (numpy.array): Model predictions\n",
    "    \"\"\"\n",
    "    print('Cross validation accuracy:')\n",
    "    print('\\t', metrics.accuracy_score(labels, prediction))\n",
    "    print('\\nCross validation classification report\\n')\n",
    "    print(metrics.classification_report(labels, prediction))\n",
    "\n",
    "\n",
    "def predict_classes(probabilities):\n",
    "    \"\"\"Predict class labels from probabilities\n",
    "\n",
    "    Args:\n",
    "        probabilities (numpy.array): model output for each class\n",
    "    Returns:\n",
    "        (numpy.array): Model predicted class labels\n",
    "    \"\"\"\n",
    "    predicted = np.array(\n",
    "        [list(a).index(max(list(a))) for a in list(probabilities)])\n",
    "    label_binarizer = preprocessing.LabelBinarizer()\n",
    "\n",
    "    label_binarizer.fit(range(max(predicted) + 1))\n",
    "    return label_binarizer.transform(predicted)\n"
   ]
  },
  {
   "cell_type": "markdown",
   "metadata": {
    "colab_type": "text",
    "id": "IGrpOVl_jV4S"
   },
   "source": [
    "## Read the data"
   ]
  },
  {
   "cell_type": "code",
   "execution_count": 4,
   "metadata": {
    "colab": {},
    "colab_type": "code",
    "id": "bOtVf5wEYNG0"
   },
   "outputs": [],
   "source": [
    "df=pd.read_excel('Data.xlsx')"
   ]
  },
  {
   "cell_type": "code",
   "execution_count": 5,
   "metadata": {
    "colab": {
     "base_uri": "https://localhost:8080/",
     "height": 321
    },
    "colab_type": "code",
    "id": "n6n2IFmxEqV7",
    "outputId": "46fc0933-fe6c-4b5d-831e-d2e6664baa74"
   },
   "outputs": [
    {
     "data": {
      "text/html": [
       "<div>\n",
       "<style scoped>\n",
       "    .dataframe tbody tr th:only-of-type {\n",
       "        vertical-align: middle;\n",
       "    }\n",
       "\n",
       "    .dataframe tbody tr th {\n",
       "        vertical-align: top;\n",
       "    }\n",
       "\n",
       "    .dataframe thead th {\n",
       "        text-align: right;\n",
       "    }\n",
       "</style>\n",
       "<table border=\"1\" class=\"dataframe\">\n",
       "  <thead>\n",
       "    <tr style=\"text-align: right;\">\n",
       "      <th></th>\n",
       "      <th>Column1</th>\n",
       "      <th>3-Breast-Her2-ampl</th>\n",
       "      <th>8-Breast-WT</th>\n",
       "      <th>10-Breast-Her2-ampl</th>\n",
       "      <th>Breast-100</th>\n",
       "      <th>15-Breast-Her2-ampl</th>\n",
       "      <th>16-Breast-WT</th>\n",
       "      <th>21-Breast-WT</th>\n",
       "      <th>33-Breast-Her2-ampl</th>\n",
       "      <th>42-Breast-Her2-ampl</th>\n",
       "      <th>...</th>\n",
       "      <th>MGH-NSCLC-L20-TR500</th>\n",
       "      <th>MGH-NSCLC-L22-TR462</th>\n",
       "      <th>MGH-NSCLC-L23-TR524</th>\n",
       "      <th>MGH-NSCLC-L25-TR480</th>\n",
       "      <th>MGH-NSCLC-L39-TR519</th>\n",
       "      <th>MGH-NSCLC-L40-TR520</th>\n",
       "      <th>MGH-NSCLC-L51-TR521</th>\n",
       "      <th>MGH-NSCLC-L58-TR525</th>\n",
       "      <th>MGH-NSCLC-L59-TR522</th>\n",
       "      <th>MGH-NSCLC-L65-TR523</th>\n",
       "    </tr>\n",
       "  </thead>\n",
       "  <tbody>\n",
       "    <tr>\n",
       "      <th>0</th>\n",
       "      <td>ENSG00000000003</td>\n",
       "      <td>0</td>\n",
       "      <td>0</td>\n",
       "      <td>0</td>\n",
       "      <td>0</td>\n",
       "      <td>17</td>\n",
       "      <td>0</td>\n",
       "      <td>0</td>\n",
       "      <td>0</td>\n",
       "      <td>0</td>\n",
       "      <td>...</td>\n",
       "      <td>0</td>\n",
       "      <td>5</td>\n",
       "      <td>10</td>\n",
       "      <td>9</td>\n",
       "      <td>0</td>\n",
       "      <td>0</td>\n",
       "      <td>0</td>\n",
       "      <td>0</td>\n",
       "      <td>0</td>\n",
       "      <td>0</td>\n",
       "    </tr>\n",
       "    <tr>\n",
       "      <th>1</th>\n",
       "      <td>ENSG00000000005</td>\n",
       "      <td>0</td>\n",
       "      <td>0</td>\n",
       "      <td>0</td>\n",
       "      <td>0</td>\n",
       "      <td>0</td>\n",
       "      <td>0</td>\n",
       "      <td>0</td>\n",
       "      <td>0</td>\n",
       "      <td>0</td>\n",
       "      <td>...</td>\n",
       "      <td>0</td>\n",
       "      <td>0</td>\n",
       "      <td>0</td>\n",
       "      <td>0</td>\n",
       "      <td>0</td>\n",
       "      <td>0</td>\n",
       "      <td>0</td>\n",
       "      <td>0</td>\n",
       "      <td>0</td>\n",
       "      <td>0</td>\n",
       "    </tr>\n",
       "    <tr>\n",
       "      <th>2</th>\n",
       "      <td>ENSG00000000419</td>\n",
       "      <td>44</td>\n",
       "      <td>14</td>\n",
       "      <td>16</td>\n",
       "      <td>8</td>\n",
       "      <td>9</td>\n",
       "      <td>0</td>\n",
       "      <td>139</td>\n",
       "      <td>108</td>\n",
       "      <td>55</td>\n",
       "      <td>...</td>\n",
       "      <td>2</td>\n",
       "      <td>41</td>\n",
       "      <td>40</td>\n",
       "      <td>15</td>\n",
       "      <td>1</td>\n",
       "      <td>0</td>\n",
       "      <td>13</td>\n",
       "      <td>0</td>\n",
       "      <td>0</td>\n",
       "      <td>10</td>\n",
       "    </tr>\n",
       "    <tr>\n",
       "      <th>3</th>\n",
       "      <td>ENSG00000000457</td>\n",
       "      <td>26</td>\n",
       "      <td>1</td>\n",
       "      <td>14</td>\n",
       "      <td>0</td>\n",
       "      <td>4</td>\n",
       "      <td>20</td>\n",
       "      <td>1</td>\n",
       "      <td>26</td>\n",
       "      <td>24</td>\n",
       "      <td>...</td>\n",
       "      <td>0</td>\n",
       "      <td>0</td>\n",
       "      <td>0</td>\n",
       "      <td>0</td>\n",
       "      <td>0</td>\n",
       "      <td>0</td>\n",
       "      <td>0</td>\n",
       "      <td>0</td>\n",
       "      <td>0</td>\n",
       "      <td>0</td>\n",
       "    </tr>\n",
       "    <tr>\n",
       "      <th>4</th>\n",
       "      <td>ENSG00000000460</td>\n",
       "      <td>81</td>\n",
       "      <td>98</td>\n",
       "      <td>18</td>\n",
       "      <td>17</td>\n",
       "      <td>0</td>\n",
       "      <td>20</td>\n",
       "      <td>144</td>\n",
       "      <td>26</td>\n",
       "      <td>97</td>\n",
       "      <td>...</td>\n",
       "      <td>23</td>\n",
       "      <td>1</td>\n",
       "      <td>6</td>\n",
       "      <td>22</td>\n",
       "      <td>30</td>\n",
       "      <td>0</td>\n",
       "      <td>1</td>\n",
       "      <td>50</td>\n",
       "      <td>6</td>\n",
       "      <td>2</td>\n",
       "    </tr>\n",
       "  </tbody>\n",
       "</table>\n",
       "<p>5 rows × 286 columns</p>\n",
       "</div>"
      ],
      "text/plain": [
       "           Column1  3-Breast-Her2-ampl  8-Breast-WT  10-Breast-Her2-ampl  \\\n",
       "0  ENSG00000000003                   0            0                    0   \n",
       "1  ENSG00000000005                   0            0                    0   \n",
       "2  ENSG00000000419                  44           14                   16   \n",
       "3  ENSG00000000457                  26            1                   14   \n",
       "4  ENSG00000000460                  81           98                   18   \n",
       "\n",
       "   Breast-100  15-Breast-Her2-ampl  16-Breast-WT  21-Breast-WT  \\\n",
       "0           0                   17             0             0   \n",
       "1           0                    0             0             0   \n",
       "2           8                    9             0           139   \n",
       "3           0                    4            20             1   \n",
       "4          17                    0            20           144   \n",
       "\n",
       "   33-Breast-Her2-ampl  42-Breast-Her2-ampl  ...  MGH-NSCLC-L20-TR500  \\\n",
       "0                    0                    0  ...                    0   \n",
       "1                    0                    0  ...                    0   \n",
       "2                  108                   55  ...                    2   \n",
       "3                   26                   24  ...                    0   \n",
       "4                   26                   97  ...                   23   \n",
       "\n",
       "   MGH-NSCLC-L22-TR462  MGH-NSCLC-L23-TR524  MGH-NSCLC-L25-TR480  \\\n",
       "0                    5                   10                    9   \n",
       "1                    0                    0                    0   \n",
       "2                   41                   40                   15   \n",
       "3                    0                    0                    0   \n",
       "4                    1                    6                   22   \n",
       "\n",
       "   MGH-NSCLC-L39-TR519  MGH-NSCLC-L40-TR520  MGH-NSCLC-L51-TR521  \\\n",
       "0                    0                    0                    0   \n",
       "1                    0                    0                    0   \n",
       "2                    1                    0                   13   \n",
       "3                    0                    0                    0   \n",
       "4                   30                    0                    1   \n",
       "\n",
       "   MGH-NSCLC-L58-TR525  MGH-NSCLC-L59-TR522  MGH-NSCLC-L65-TR523  \n",
       "0                    0                    0                    0  \n",
       "1                    0                    0                    0  \n",
       "2                    0                    0                   10  \n",
       "3                    0                    0                    0  \n",
       "4                   50                    6                    2  \n",
       "\n",
       "[5 rows x 286 columns]"
      ]
     },
     "execution_count": 5,
     "metadata": {},
     "output_type": "execute_result"
    }
   ],
   "source": [
    "df.head()"
   ]
  },
  {
   "cell_type": "code",
   "execution_count": 6,
   "metadata": {
    "colab": {},
    "colab_type": "code",
    "id": "MBRJSBoFBpQZ"
   },
   "outputs": [],
   "source": [
    "df_T = df.transpose()"
   ]
  },
  {
   "cell_type": "code",
   "execution_count": 7,
   "metadata": {
    "colab": {},
    "colab_type": "code",
    "id": "91TIuySGhLI2"
   },
   "outputs": [],
   "source": [
    "new_header = df_T.iloc[0] #grab the first row for the header\n",
    "df_T = df_T[1:] #take the data less the header row\n",
    "df_T.columns = new_header #set the header row as the df header"
   ]
  },
  {
   "cell_type": "code",
   "execution_count": 8,
   "metadata": {
    "colab": {
     "base_uri": "https://localhost:8080/",
     "height": 34
    },
    "colab_type": "code",
    "id": "mehHdTyCIDhu",
    "outputId": "878ea6d0-5fa8-41d9-b8d0-4892a1cb2003"
   },
   "outputs": [
    {
     "data": {
      "text/plain": [
       "(285, 57736)"
      ]
     },
     "execution_count": 8,
     "metadata": {},
     "output_type": "execute_result"
    }
   ],
   "source": [
    "df_T.shape"
   ]
  },
  {
   "cell_type": "code",
   "execution_count": 9,
   "metadata": {
    "colab": {},
    "colab_type": "code",
    "id": "ANKQU6cXCeG_"
   },
   "outputs": [],
   "source": [
    "df_T['target']='c'"
   ]
  },
  {
   "cell_type": "code",
   "execution_count": 10,
   "metadata": {
    "colab": {},
    "colab_type": "code",
    "id": "dmbMrzAc_V72"
   },
   "outputs": [],
   "source": [
    "x=df_T.index"
   ]
  },
  {
   "cell_type": "code",
   "execution_count": 14,
   "metadata": {
    "colab": {},
    "colab_type": "code",
    "id": "HPt2Vpv6-8Ol"
   },
   "outputs": [],
   "source": [
    "i=0\n",
    "for y in x:\n",
    "    if (y.find('HD') != -1):\n",
    "        df_T['target'].iloc[i]='h'\n",
    "  #elif (y.find('Control') != -1):\n",
    "   # df['target'].iloc[i]=1\n",
    "        i=i+1"
   ]
  },
  {
   "cell_type": "code",
   "execution_count": 15,
   "metadata": {
    "colab": {
     "base_uri": "https://localhost:8080/",
     "height": 68
    },
    "colab_type": "code",
    "id": "LVhR2Xe4_hS4",
    "outputId": "6b18b3fa-cb6e-450c-c1e2-6ec295cbbb1c"
   },
   "outputs": [
    {
     "data": {
      "text/plain": [
       "c    240\n",
       "h     45\n",
       "Name: target, dtype: int64"
      ]
     },
     "execution_count": 15,
     "metadata": {},
     "output_type": "execute_result"
    }
   ],
   "source": [
    "df_T.target.value_counts()"
   ]
  },
  {
   "cell_type": "code",
   "execution_count": 16,
   "metadata": {
    "colab": {
     "base_uri": "https://localhost:8080/",
     "height": 34
    },
    "colab_type": "code",
    "id": "Gi8kDaB6KIF3",
    "outputId": "bd3ff915-9a0f-4bcb-f93d-8bf966f094d5"
   },
   "outputs": [],
   "source": [
    "Processed_data=df_T"
   ]
  },
  {
   "cell_type": "code",
   "execution_count": 17,
   "metadata": {
    "colab": {},
    "colab_type": "code",
    "id": "R2rh979UHdGd"
   },
   "outputs": [],
   "source": [
    "#df.replace(0, np.nan, inplace=True)"
   ]
  },
  {
   "cell_type": "code",
   "execution_count": 18,
   "metadata": {
    "colab": {},
    "colab_type": "code",
    "id": "aZL14KQuHdGi"
   },
   "outputs": [],
   "source": [
    "#df=df.dropna(axis='columns', thresh=284) #drop all columns having 250 NA's\n",
    "#df.shape"
   ]
  },
  {
   "cell_type": "markdown",
   "metadata": {
    "colab_type": "text",
    "id": "Ose6EMYGMpyw"
   },
   "source": [
    "## Cancerous or Healthy"
   ]
  },
  {
   "cell_type": "code",
   "execution_count": 19,
   "metadata": {
    "colab": {},
    "colab_type": "code",
    "id": "YY54bncAKKQO"
   },
   "outputs": [],
   "source": [
    "# fix random seed for reproducibility\n",
    "seed = 7\n",
    "np.random.seed(seed)"
   ]
  },
  {
   "cell_type": "code",
   "execution_count": 20,
   "metadata": {
    "colab": {
     "base_uri": "https://localhost:8080/",
     "height": 85
    },
    "colab_type": "code",
    "id": "5wJEjHvSL83Z",
    "outputId": "596532f7-041d-4254-bb77-bd075439b614"
   },
   "outputs": [
    {
     "data": {
      "text/plain": [
       "target\n",
       "c    240\n",
       "h     45\n",
       "dtype: int64"
      ]
     },
     "execution_count": 20,
     "metadata": {},
     "output_type": "execute_result"
    }
   ],
   "source": [
    "Processed_data.groupby('target').size()"
   ]
  },
  {
   "cell_type": "code",
   "execution_count": 21,
   "metadata": {
    "colab": {},
    "colab_type": "code",
    "id": "aXObAeYrMSIV"
   },
   "outputs": [],
   "source": [
    "# Get labels for training data\n",
    "Y = Processed_data.target.values\n",
    "# Get training data \n",
    "X = Processed_data.drop(['target'], axis=1)"
   ]
  },
  {
   "cell_type": "code",
   "execution_count": 22,
   "metadata": {
    "colab": {},
    "colab_type": "code",
    "id": "hAOq2auCMaNp"
   },
   "outputs": [],
   "source": [
    "# Split the data for cross-validation\n",
    "X_train, X_test, Y_train, Y_test = train_test_split(\n",
    "    X, Y, test_size=0.33, random_state=seed)"
   ]
  },
  {
   "cell_type": "code",
   "execution_count": 23,
   "metadata": {
    "colab": {
     "base_uri": "https://localhost:8080/",
     "height": 34
    },
    "colab_type": "code",
    "id": "LZceBc9-PeHt",
    "outputId": "98676dc0-9a15-462b-bcf2-2b9858238951"
   },
   "outputs": [
    {
     "data": {
      "text/plain": [
       "(190, 57736)"
      ]
     },
     "execution_count": 23,
     "metadata": {},
     "output_type": "execute_result"
    }
   ],
   "source": [
    "# Determine shape of training data features for cross-validation\n",
    "X_train.shape"
   ]
  },
  {
   "cell_type": "code",
   "execution_count": 24,
   "metadata": {
    "colab": {
     "base_uri": "https://localhost:8080/",
     "height": 34
    },
    "colab_type": "code",
    "id": "Pi1ye2zNPiwO",
    "outputId": "5e4f7c59-975c-482c-d54c-91caacea9f92"
   },
   "outputs": [
    {
     "data": {
      "text/plain": [
       "(190,)"
      ]
     },
     "execution_count": 24,
     "metadata": {},
     "output_type": "execute_result"
    }
   ],
   "source": [
    "# Determine shape of training data target for cross-validation\n",
    "Y_train.shape"
   ]
  },
  {
   "cell_type": "code",
   "execution_count": 25,
   "metadata": {
    "colab": {},
    "colab_type": "code",
    "id": "ib1mf3-rPnR4"
   },
   "outputs": [],
   "source": [
    "# Set parameters for the Random Forest Model\n",
    "kfold = KFold(n_splits=10, shuffle=True, random_state=seed)\n",
    "enc = preprocessing.MultiLabelBinarizer()\n",
    "Y_one_hot = enc.fit_transform(Y_train)"
   ]
  },
  {
   "cell_type": "code",
   "execution_count": 26,
   "metadata": {
    "colab": {
     "base_uri": "https://localhost:8080/",
     "height": 119
    },
    "colab_type": "code",
    "id": "TFNW7kXIPtwu",
    "outputId": "e88c6d3e-b0e3-46a0-9da3-7a6672e10bcd"
   },
   "outputs": [
    {
     "name": "stdout",
     "output_type": "stream",
     "text": [
      "Test AUC for 100 trees:  [0.642057517853696, 0.6420575178536962]\n",
      "--------------------------------------------------\n",
      "Test AUC for 1000 trees:  [0.6804670912951168, 0.6804670912951167]\n",
      "--------------------------------------------------\n",
      "Test AUC for 2000 trees:  [0.6850028951939781, 0.6850028951939781]\n",
      "--------------------------------------------------\n"
     ]
    }
   ],
   "source": [
    "# Perform cross validation and pull AUC for various splits\n",
    "# auc = []\n",
    "# for n in [100, 1000, 2000]:\n",
    "#     est = RandomForestClassifier(n_estimators=n, max_features=8,n_jobs=-1, \n",
    "#                                  oob_score=True)\n",
    "#     probs = cross_val_predict(est, X_train, Y_train, cv=kfold, method='predict_proba')\n",
    "#     temp_auc = []\n",
    "#     for j in range(Y_one_hot.shape[1]):\n",
    "#         temp_auc.append(metrics.roc_auc_score(Y_one_hot[:, j], probs[:, j]))\n",
    "#     auc.append(temp_auc)\n",
    "#     print('Test AUC for {0} trees: '.format(n), temp_auc)\n",
    "#     print('--------------------------------------------------')"
   ]
  },
  {
   "cell_type": "code",
   "execution_count": 29,
   "metadata": {
    "colab": {},
    "colab_type": "code",
    "id": "1ULhDhQTP335"
   },
   "outputs": [],
   "source": [
    "# Set parameters for the estimator\n",
    "estimator = RandomForestClassifier(n_estimators=2000, max_features=8, \n",
    "                                   n_jobs=-1, oob_score=True)"
   ]
  },
  {
   "cell_type": "code",
   "execution_count": 36,
   "metadata": {
    "colab": {},
    "colab_type": "code",
    "id": "DtB1F4GCP9V0"
   },
   "outputs": [],
   "source": [
    "# Perform cross validation\n",
    "probabilities = cross_val_predict(estimator, X_train, Y_train, cv=kfold, method='predict_proba')"
   ]
  },
  {
   "cell_type": "code",
   "execution_count": 37,
   "metadata": {
    "colab": {},
    "colab_type": "code",
    "id": "6B740AZZQBZY"
   },
   "outputs": [],
   "source": [
    "# Save the probabilities in /data folder\n",
    "#np.save('../data/random_forest/1000estimators.npy', probabilities)"
   ]
  },
  {
   "cell_type": "code",
   "execution_count": 65,
   "metadata": {
    "colab": {},
    "colab_type": "code",
    "id": "heKxpHMZQFXo"
   },
   "outputs": [],
   "source": [
    "# print accuracy report\n",
    "# print_accuracy_and_classification_report(Y_one_hot, predict_classes(probabilities))"
   ]
  },
  {
   "cell_type": "code",
   "execution_count": 39,
   "metadata": {
    "colab": {
     "base_uri": "https://localhost:8080/",
     "height": 295
    },
    "colab_type": "code",
    "id": "UljWhlRFQHlC",
    "outputId": "661c5818-557d-4197-e630-ddb380dac363"
   },
   "outputs": [
    {
     "data": {
      "image/png": "[encoded data removed]",
      "text/plain": [
       "<Figure size 432x288 with 1 Axes>"
      ]
     },
     "metadata": {},
     "output_type": "display_data"
    }
   ],
   "source": [
    "# Plot ROC for Random Forest Model\n",
    "class_lookup = {0: 'Cancer', 1: 'Healthy'}\n",
    "fig, ax = plt.subplots()\n",
    "create_roc_curve(Y_one_hot, probabilities, class_lookup, 'Three Class Random'\n",
    "                 ' Forest Reciever Operating Characteristic Curve', ax)"
   ]
  },
  {
   "cell_type": "markdown",
   "metadata": {
    "colab_type": "text",
    "id": "b-zWpiNVX86V"
   },
   "source": [
    "## Feature Importance Analysis"
   ]
  },
  {
   "cell_type": "code",
   "execution_count": 45,
   "metadata": {
    "colab": {},
    "colab_type": "code",
    "id": "Cg7jtMxymasa"
   },
   "outputs": [],
   "source": [
    "# Rebuild random forest model\n",
    "forest = estimator.fit(X_train, Y_train)"
   ]
  },
  {
   "cell_type": "code",
   "execution_count": 46,
   "metadata": {
    "colab": {},
    "colab_type": "code",
    "id": "dbkFzxvydXAv"
   },
   "outputs": [],
   "source": [
    "def sum_features(feature_import, label):\n",
    "    starts_with_label = feature_import.feature.str.startswith(label)\n",
    "    return feature_import.importance[starts_with_label].sum()"
   ]
  },
  {
   "cell_type": "code",
   "execution_count": 53,
   "metadata": {
    "colab": {
     "base_uri": "https://localhost:8080/",
     "height": 312
    },
    "colab_type": "code",
    "id": "6GQg0OtIdaqp",
    "outputId": "f7d87807-0639-49cc-ab5c-ae1db2f1c52b"
   },
   "outputs": [],
   "source": [
    " # Create function to determine the feature importance \n",
    "def create_feature_importance_plot(forest):\n",
    "    feature_import = pd.DataFrame([Processed_data.drop(['target'], axis=1).columns.values,forest.feature_importances_]).T\n",
    "    feature_import.columns = ['feature', 'importance']\n",
    "    summed_importances = []\n",
    "#     for label in ['disease', 'reviewer']:\n",
    "#         summed_importances.append([label, sum_features(feature_import, label)])\n",
    "#     summed_importances = pd.DataFrame(summed_importances, columns=['feature','importance'])\n",
    "#     feature_import.to_pickle(save_fp)\n",
    "#     print(feature_import ['feature'])\n",
    "#     for i in feature_import ['feature']:\n",
    "#         print(i)\n",
    "    feature_import.sort_values('importance', ascending=False, inplace=True)\n",
    "    sns.barplot(y='feature', x='importance', data=feature_import.head(18), color='darkorange')\n",
    "    plt.xlabel('Feature importance')\n",
    "    plt.ylabel('Feature')\n",
    "    plt.title('Random Forest Feature Importance')"
   ]
  },
  {
   "cell_type": "markdown",
   "metadata": {
    "colab_type": "text",
    "id": "7LOP5Iy-lLkM"
   },
   "source": [
    "## Test set performance"
   ]
  },
  {
   "cell_type": "code",
   "execution_count": 54,
   "metadata": {
    "colab": {},
    "colab_type": "code",
    "id": "HBx14D5rT8bE"
   },
   "outputs": [],
   "source": [
    "#Get probabilites for hold out test set\n",
    "forest = estimator.fit(X_train, Y_train)\n",
    "test_prob = forest.predict_proba(X_test)"
   ]
  },
  {
   "cell_type": "code",
   "execution_count": 55,
   "metadata": {
    "colab": {},
    "colab_type": "code",
    "id": "Hb-MZzchUF9r"
   },
   "outputs": [],
   "source": [
    "# Add labels\n",
    "Y_test_labels = enc.fit_transform(Y_test)"
   ]
  },
  {
   "cell_type": "code",
   "execution_count": 56,
   "metadata": {
    "colab": {
     "base_uri": "https://localhost:8080/",
     "height": 295
    },
    "colab_type": "code",
    "id": "S8s9m7EoUHeM",
    "outputId": "597e93f2-0599-4a38-f94f-c069e0c1d43d"
   },
   "outputs": [
    {
     "data": {
      "image/png": "[encoded data removed]",
      "text/plain": [
       "<Figure size 432x288 with 1 Axes>"
      ]
     },
     "metadata": {},
     "output_type": "display_data"
    }
   ],
   "source": [
    "# PLot test set ROC\n",
    "fig, ax = plt.subplots()\n",
    "create_roc_curve(Y_test_labels, test_prob, class_lookup, 'Receiver Operating '\n",
    "                 'Characteristic - Hold out test set simplified disease - '\n",
    "                 'Random Forest', ax)"
   ]
  },
  {
   "cell_type": "markdown",
   "metadata": {
    "colab_type": "text",
    "id": "Hdg4AsL7lPx_"
   },
   "source": [
    "## Confusion Matrix"
   ]
  },
  {
   "cell_type": "code",
   "execution_count": 63,
   "metadata": {
    "colab": {},
    "colab_type": "code",
    "id": "gk16FXC4LIjK"
   },
   "outputs": [],
   "source": [
    "# from sklearn.metrics import plot_confusion_matrix\n",
    "# from sklearn.metrics import confusion_matrix, plot_confusion_matrix\n",
    "\n",
    "# conf_mat = confusion_matrix(Y_one_hot, predict_classes(probabilities), normalize='true')\n",
    "# print(conf_mat)\n",
    "\n",
    "\n",
    "# disp = plot_confusion_matrix(classifier, X_test, y_test,\n",
    "# display_labels=class_names, cmap=plt.cm.Blues, normalize='true')"
   ]
  },
  {
   "cell_type": "markdown",
   "metadata": {
    "colab_type": "text",
    "id": "Jrg4PGHfIVBa"
   },
   "source": [
    "## Multi-Class Setting"
   ]
  },
  {
   "cell_type": "code",
   "execution_count": null,
   "metadata": {
    "colab": {},
    "colab_type": "code",
    "id": "25sooGZl3WAK"
   },
   "outputs": [],
   "source": [
    "# df['Patient type']=0"
   ]
  },
  {
   "cell_type": "code",
   "execution_count": 60,
   "metadata": {
    "colab": {},
    "colab_type": "code",
    "id": "0zE997YTyNOU"
   },
   "outputs": [],
   "source": [
    "# i=0                                           \n",
    "# for y in x:\n",
    "#     if (y.find('HD') != -1):\n",
    "#         df['list'].iloc[i]='Healthy Donor (HD)'\n",
    "#     #i=i+1\n",
    "#     elif (y.find('liver') != -1):\n",
    "#         df['list'].iloc[i]='Hepatobiliary carcinoma (HBC)'\n",
    "#     #i=i+1\n",
    "#     elif (y.find('Platelet-hiseq') != -1):\n",
    "#         df['list'].iloc[i]='HC'\n",
    "#     elif (y.find('Breast') != -1):\n",
    "#         df['list'].iloc[i]='Breast carcinoma (BrCa)'\n",
    "#     #i=i+1\n",
    "#     elif (y.find('Chol') != -1):\n",
    "#         df['list'].iloc[i]='Hepatobiliary carcinoma (HBC)'\n",
    "#     #i=i+1\n",
    "#     elif (y.find('CRC') != -1):\n",
    "#         df['list'].iloc[i]='Colorectal cancer (CRC)'\n",
    "#     #i=i+1\n",
    "#     elif (y.find('GBM') != -1):\n",
    "#         df['list'].iloc[i]='Glioblastoma (GBM)'\n",
    "#     #i=i+1\n",
    "#     elif (y.find('Pancr') != -1):\n",
    "#         df['list'].iloc[i]='Pancreatic Adenocarcinoma (PAAD)'\n",
    "#     #i=i+1\n",
    "#     elif (y.find('Panc') != -1):\n",
    "#         df['list'].iloc[i]='Pancreatic Adenocarcinoma (PAAD)'\n",
    "#     elif (y.find('Lung') != -1):\n",
    "#         df['list'].iloc[i]='Non-small cell lung cancer (NSCLC)'\n",
    "#     #i=i+1\n",
    "#     elif (y.find('BrCa') != -1):\n",
    "#         df['list'].iloc[i]='Breast carcinoma (BrCa)'\n",
    "#     #i=i+1\n",
    "#     elif (y.find('Control') != -1):\n",
    "#         df['list'].iloc[i]='Healthy Donor (HD)'\n",
    "#     elif (y.find('NSCLC') != -1):\n",
    "#         df['list'].iloc[i]='Non-small cell lung cancer (NSCLC)'\n",
    "#     elif (y.find('Unknown') != -1):\n",
    "#         df['list'].iloc[i]='Hepatobiliary carcinoma (HBC)'\n",
    "#     else:\n",
    "#         df['list'].iloc[i]='Hepatobiliary carcinoma (HBC)'\n",
    "#     i=i+1"
   ]
  },
  {
   "cell_type": "code",
   "execution_count": null,
   "metadata": {
    "colab": {},
    "colab_type": "code",
    "id": "VLY_-hrO5ab-"
   },
   "outputs": [],
   "source": [
    "# df['list'] # non-small cell lung cancer, \n",
    "#            #colorectal cancer, \n",
    "#            #pancreatic cancer, \n",
    "#            #glioblastoma, \n",
    "#            #breast cancer and \n",
    "#            #hepatobiliary carcinomas\n",
    "# df.list.value_counts()"
   ]
  },
  {
   "cell_type": "markdown",
   "metadata": {
    "colab_type": "text",
    "id": "hEDxM5NMQZTy"
   },
   "source": [
    "## Trying K-means Clustering"
   ]
  },
  {
   "cell_type": "code",
   "execution_count": 62,
   "metadata": {
    "colab": {},
    "colab_type": "code",
    "id": "go3qMKXkCxiP"
   },
   "outputs": [],
   "source": [
    "# from sklearn.cluster import KMeans\n",
    "# # defining the kmeans function with initialization as k-means++\n",
    "# kmeans = KMeans(n_clusters=2, init='k-means++')\n",
    "\n",
    "# # fitting the k means algorithm on scaled data\n",
    "# kmeans.fit(df)\n",
    "# kmeans = KMeans(n_jobs = -1, n_clusters = 5, init='k-means++')\n",
    "# kmeans.fit(data_scaled)\n",
    "# pred = kmeans.predict(data_scaled)\n",
    "# frame = pd.DataFrame(data_scaled)\n",
    "# frame['cluster'] = pred\n",
    "# frame['cluster'].value_counts()"
   ]
  }
 ],
 "metadata": {
  "colab": {
   "collapsed_sections": [],
   "name": "ML-W7-Classifier.ipynb",
   "provenance": []
  },
  "kernelspec": {
   "display_name": "Python 3",
   "language": "python",
   "name": "python3"
  },
  "language_info": {
   "codemirror_mode": {
    "name": "ipython",
    "version": 3
   },
   "file_extension": ".py",
   "mimetype": "text/x-python",
   "name": "python",
   "nbconvert_exporter": "python",
   "pygments_lexer": "ipython3",
   "version": "3.8.8"
  }
 },
 "nbformat": 4,
 "nbformat_minor": 1
}
